{
 "cells": [
  {
   "cell_type": "markdown",
   "id": "ca547f07",
   "metadata": {},
   "source": [
    "1. Defination\n",
    "\n",
    "Method: A function which is defined **inside a class body**. If called as an attribute of an instance of that class, the method will get the instance object as its first argument (which is usually called self). \n",
    "\n",
    "Function: A series of statements which returns some value to a caller. It can also be passed zero or more arguments which may be used in the execution of the body. See also parameter, method, and the Function definitions section.\n",
    "\n",
    "Class: A template for creating user-defined objects. Class definitions normally contain method definitions which operate on instances of the class.\n",
    "\n",
    "There are three times methods: class method, instance method and static method.\n",
    "\n",
    "Build-in Function: A function that is already available in a programming language, application, or another tool that can be accessed by end users.<a href=\"https://docs.python.org/3/library/functions.html\"> build-in function list </a>\n",
    "\n",
    "resource:<a href=\"https://docs.python.org/3/glossary.html#term-function\"> glossary </a>"
   ]
  },
  {
   "cell_type": "markdown",
   "id": "65bf61a4",
   "metadata": {},
   "source": [
    "2. Some code tests\n",
    "\n",
    "resource: <a href=\"https://blog.csdn.net/qq_44614026/article/details/108610467?spm=1001.2101.3001.6650.1&utm_medium=distribute.pc_relevant.none-task-blog-2%7Edefault%7ECTRLIST%7ERate-1-108610467-blog-117154859.pc_relevant_multi_platform_whitelistv3&depth_1-utm_source=distribute.pc_relevant.none-task-blog-2%7Edefault%7ECTRLIST%7ERate-1-108610467-blog-117154859.pc_relevant_multi_platform_whitelistv3&utm_relevant_index=1\"> Python中的函数（function）与方法（method）</a>"
   ]
  },
  {
   "cell_type": "code",
   "execution_count": 1,
   "id": "39f1c370",
   "metadata": {},
   "outputs": [],
   "source": [
    "import inspect"
   ]
  },
  {
   "cell_type": "code",
   "execution_count": 2,
   "id": "dc2caf65",
   "metadata": {},
   "outputs": [],
   "source": [
    "def test():\n",
    "    print(\"method or function?\")"
   ]
  },
  {
   "cell_type": "code",
   "execution_count": 3,
   "id": "cae7d788",
   "metadata": {},
   "outputs": [
    {
     "data": {
      "text/plain": [
       "True"
      ]
     },
     "execution_count": 3,
     "metadata": {},
     "output_type": "execute_result"
    }
   ],
   "source": [
    "inspect.isfunction(test)"
   ]
  },
  {
   "cell_type": "code",
   "execution_count": 4,
   "id": "90ad0a63",
   "metadata": {},
   "outputs": [
    {
     "data": {
      "text/plain": [
       "False"
      ]
     },
     "execution_count": 4,
     "metadata": {},
     "output_type": "execute_result"
    }
   ],
   "source": [
    "inspect.ismethod(test)"
   ]
  },
  {
   "cell_type": "code",
   "execution_count": 5,
   "id": "17e0def2",
   "metadata": {},
   "outputs": [
    {
     "data": {
      "text/plain": [
       "True"
      ]
     },
     "execution_count": 5,
     "metadata": {},
     "output_type": "execute_result"
    }
   ],
   "source": [
    "inspect.isfunction(inspect.isfunction)"
   ]
  },
  {
   "cell_type": "code",
   "execution_count": 6,
   "id": "2a279a33",
   "metadata": {},
   "outputs": [
    {
     "data": {
      "text/plain": [
       "False"
      ]
     },
     "execution_count": 6,
     "metadata": {},
     "output_type": "execute_result"
    }
   ],
   "source": [
    "inspect.ismethod(inspect.isfunction)"
   ]
  },
  {
   "cell_type": "code",
   "execution_count": 7,
   "id": "a8d3cac1",
   "metadata": {},
   "outputs": [
    {
     "data": {
      "text/plain": [
       "(['def isfunction(object):\\n',\n",
       "  '    \"\"\"Return true if the object is a user-defined function.\\n',\n",
       "  '\\n',\n",
       "  '    Function objects provide these attributes:\\n',\n",
       "  '        __doc__         documentation string\\n',\n",
       "  '        __name__        name with which this function was defined\\n',\n",
       "  '        __code__        code object containing compiled function bytecode\\n',\n",
       "  '        __defaults__    tuple of any default values for arguments\\n',\n",
       "  '        __globals__     global namespace in which this function was defined\\n',\n",
       "  '        __annotations__ dict of parameter annotations\\n',\n",
       "  '        __kwdefaults__  dict of keyword only parameters with defaults\"\"\"\\n',\n",
       "  '    return isinstance(object, types.FunctionType)\\n'],\n",
       " 158)"
      ]
     },
     "execution_count": 7,
     "metadata": {},
     "output_type": "execute_result"
    }
   ],
   "source": [
    "inspect.getsourcelines(inspect.isfunction)"
   ]
  },
  {
   "cell_type": "code",
   "execution_count": 8,
   "id": "42995bfc",
   "metadata": {},
   "outputs": [
    {
     "data": {
      "text/plain": [
       "(['def ismethod(object):\\n',\n",
       "  '    \"\"\"Return true if the object is an instance method.\\n',\n",
       "  '\\n',\n",
       "  '    Instance method objects provide these attributes:\\n',\n",
       "  '        __doc__         documentation string\\n',\n",
       "  '        __name__        name with which this method was defined\\n',\n",
       "  '        __func__        function object containing implementation of method\\n',\n",
       "  '        __self__        instance to which this method is bound\"\"\"\\n',\n",
       "  '    return isinstance(object, types.MethodType)\\n'],\n",
       " 80)"
      ]
     },
     "execution_count": 8,
     "metadata": {},
     "output_type": "execute_result"
    }
   ],
   "source": [
    "inspect.getsourcelines(inspect.ismethod)"
   ]
  },
  {
   "cell_type": "code",
   "execution_count": 9,
   "id": "f73dec8b",
   "metadata": {},
   "outputs": [
    {
     "data": {
      "text/plain": [
       "False"
      ]
     },
     "execution_count": 9,
     "metadata": {},
     "output_type": "execute_result"
    }
   ],
   "source": [
    "inspect.isfunction(len)"
   ]
  },
  {
   "cell_type": "code",
   "execution_count": 10,
   "id": "d9911d5a",
   "metadata": {},
   "outputs": [
    {
     "data": {
      "text/plain": [
       "builtin_function_or_method"
      ]
     },
     "execution_count": 10,
     "metadata": {},
     "output_type": "execute_result"
    }
   ],
   "source": [
    "type(len)"
   ]
  },
  {
   "cell_type": "code",
   "execution_count": 11,
   "id": "4e26548d",
   "metadata": {},
   "outputs": [],
   "source": [
    "class MyTest():\n",
    "    \n",
    "    # instance method\n",
    "    def ins_func(self):\n",
    "        pass\n",
    "    \n",
    "    @classmethod\n",
    "    def cls_func(cls):\n",
    "        pass\n",
    "    \n",
    "    @staticmethod\n",
    "    def sta_func():\n",
    "        pass"
   ]
  },
  {
   "cell_type": "code",
   "execution_count": 12,
   "id": "2b0e4ff2",
   "metadata": {},
   "outputs": [
    {
     "name": "stdout",
     "output_type": "stream",
     "text": [
      "False\n",
      "True\n",
      "False\n"
     ]
    }
   ],
   "source": [
    "print(inspect.ismethod(MyTest.ins_func))\n",
    "print(inspect.ismethod(MyTest.cls_func))\n",
    "print(inspect.ismethod(MyTest.sta_func))"
   ]
  },
  {
   "cell_type": "code",
   "execution_count": 13,
   "id": "e33c6f31",
   "metadata": {},
   "outputs": [
    {
     "name": "stdout",
     "output_type": "stream",
     "text": [
      "True\n",
      "True\n",
      "False\n"
     ]
    }
   ],
   "source": [
    "test = MyTest()\n",
    "\n",
    "print(inspect.ismethod(test.ins_func))\n",
    "print(inspect.ismethod(test.cls_func))\n",
    "print(inspect.ismethod(test.sta_func))"
   ]
  }
 ],
 "metadata": {
  "kernelspec": {
   "display_name": "Python 3 (ipykernel)",
   "language": "python",
   "name": "python3"
  },
  "language_info": {
   "codemirror_mode": {
    "name": "ipython",
    "version": 3
   },
   "file_extension": ".py",
   "mimetype": "text/x-python",
   "name": "python",
   "nbconvert_exporter": "python",
   "pygments_lexer": "ipython3",
   "version": "3.7.1"
  },
  "toc": {
   "base_numbering": 1,
   "nav_menu": {},
   "number_sections": true,
   "sideBar": true,
   "skip_h1_title": false,
   "title_cell": "Table of Contents",
   "title_sidebar": "Contents",
   "toc_cell": false,
   "toc_position": {},
   "toc_section_display": true,
   "toc_window_display": false
  }
 },
 "nbformat": 4,
 "nbformat_minor": 5
}
